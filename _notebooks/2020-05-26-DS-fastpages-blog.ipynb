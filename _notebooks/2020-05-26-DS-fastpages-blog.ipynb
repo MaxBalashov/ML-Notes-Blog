{
 "cells": [
  {
   "cell_type": "markdown",
   "metadata": {},
   "source": [
    "# \"Data Science блог с помощью fastpages\"\n",
    "> \"In progress. Как легко, быстро, без боли, страданий, регистрации и смс запустить свой DS/ML/AI/Tech блог с минимумом сложностей связанных с хостингом и деплойем этого блога\"\n",
    "\n",
    "- toc: true \n",
    "- badges: false\n",
    "- comments: true\n",
    "- categories: [tutorial]\n",
    "- image: images/favicon.png"
   ]
  },
  {
   "cell_type": "markdown",
   "metadata": {},
   "source": [
    "TODO: добавить картинки к постам"
   ]
  },
  {
   "cell_type": "markdown",
   "metadata": {},
   "source": [
    "TODO добавить TL;DL и переписать начало.\n",
    "\n",
    "В конце февраля 2020 года ребята из `fast.ai` представили миру `fastpages` - платформу для ведения блога.\n",
    "\n",
    "Сразу скажу, что `fastpages` основан на `Jekyll`, о котором на Хабре есть множество постов.\n",
    "\n",
    "Главное отличительная черта и приемущество `fastpages` состоит в поддерживаемых из коробки форматах постов:\n",
    "- Jupyter ноутбуки (расширение `.ipynb`);\n",
    "- Markdown файлы (расширение `.md`);\n",
    "- Word файлы (расширение `.docx`)\n",
    "\n",
    "Таким образом, автору блога необходимо сохранить пост в любом из перечисланных выше форматах в соответствующей директории:\n",
    "- './_notebooks/' для `.ipynb`;\n",
    "- './_posts/' для `.md`;\n",
    "- './_word/' для `.docx`.\n",
    "\n",
    "А все остальное сделает `fastpages`, как утверждают его авторы.\n",
    "`fastpages` использует Github Pages для хостинга и Github Actions для автоматизации публикации постов.\n",
    "\n",
    "Таким образом `fastpages` является доработкой связки Github Pages + `Jekyll`, где можно сразу же из Jupyter ноутбука получить опубликованный пост."
   ]
  },
  {
   "cell_type": "markdown",
   "metadata": {},
   "source": [
    "# Создание блога с помощью `fastpages` и `GitHub`\n",
    "Если хотите самостоятельно разобраться, то вот [официальная инструкция](https://github.com/fastai/fastpages#setup-instructions) по настройке в репозитории `fastpages`.\n",
    "\n",
    "Процесс настройки `fastpages`:\n",
    "\n",
    "1. Создать собственную копию репозитория из шаблона `fastpages` по [ссылке](https://github.com/fastai/fastpages/generate)\n",
    "![](../images/ds-blog-fastpages/new-repo-fastpages.png)\n",
    "2. Далее автоматически откроется pull request (через ~ 30 секунд), который отвечает за настройку вашего блога, чтобы он мог начать работать.\n",
    "![](../images/ds-blog-fastpages/init-setup.png)\n",
    "3. Вам нужно выполнить иструкции из полученного pull request'a и вы получите свою собственную уже работающую платформу для блога.\n",
    "\n",
    "![](../images/ds-blog-fastpages/paginate.png)\n",
    "\n",
    "## Видео туториал\n",
    "> youtube: https://youtu.be/L0boq3zqazI"
   ]
  },
  {
   "cell_type": "markdown",
   "metadata": {},
   "source": [
    "# [Настройка блога](https://github.com/fastai/fastpages#site-wide-configuration-options)\n",
    "\n",
    "Есть возможность для персонализированной конфигурации вашего блога. Параметры конфигурации находятся в файле `./_config.yml`, некоторые из них приведены ниже:\n",
    "- `title` - название вашего блога, которое отображается в верхнем левом углу на каждой странице;\n",
    "- `description` - описание, которое будет отображаться в разных местах при предварительном просмотре вашего сайта (например, в социальных сетях);\n",
    "- `github_username` - позволяет вашему сайту отображать ссылку на вашу страницу GitHub в нижнем колонтитуле;\n",
    "- `github_repo` - позволяет вашему сайту отображать ссылки на ваш репозиторий для различных функций, таких как ссылки на GitHub, Google Colab и Binder для Jupyter ноутбуков;\n",
    "- `default_badges` - по умолчанию ссылки GitHub, Google Colab и Binder будут отображаться в постах созданных из Jupyter ноутбуков. Вы можете задать, какие из них будут отображаться по умолчанию, установив для соответствующего значения в default_badges значение true или false. Например, если вы хотите отключить ссылки на Binder, вы должны поправить default_badges:\n",
    "  ```\n",
    "  default_badges:\n",
    "    github: true\n",
    "    binder: false\n",
    "    colab: true\n",
    "  ```\n",
    "- `url` - это не нужно менять, если у вас нет собственного домена;\n",
    "- `baseurl` - см. комментарии в /_config.yml для получения инструкций (\"Special Instructions for baseurl\"). Если у вас нет настраиваемого домена, вы можете игнорировать эту опцию.;\n",
    "- `twitter_username` - создает ссылку в нижнем колонтитуле на страницу Twitter;\n",
    "- `use_math` - установите значение `true`, чтобы получить поддержку математических формул `LaTeX`;\n",
    "- `show_description` - отображает на домашней странице описание под заголовком ваших постов в блоге. По умолчанию установлено значение `true`;\n",
    "- `google_analytics` - опционально можно использовать идентификатор Google Analytics;\n",
    "- `pagination` - максимальное количество постов, отображаемых на каждой странице вашей домашней страницы. Значение по умолчанию равно 15. Когда число постов превысит заданное значение, тогда произойдет разбивка на страницы, которая выглядит так:\n",
    "![](../images/ds-blog-fastpages/paginate.png)\n",
    "\n",
    "- `show_tags` - включает отображение тегов внутри постов, которые выглядят следующим образом:\n",
    "![](../images/ds-blog-fastpages/_post_tags.png)\n",
    "\n",
    "- `show_image` - при значении `true` включается возможность добавления изображений к постам на домашней странице. Выглядит следующим образом (первые 2 поста сопроводжаются изображениями):\n",
    "![](../images/ds-blog-fastpages/_show_image_true.png)"
   ]
  },
  {
   "cell_type": "markdown",
   "metadata": {},
   "source": [
    "# Публикация постов из `.ipynb` с помощью `fastpages`\n",
    "\n",
    "TODO алгоритм публикации блога - https://github.com/fastai/fastpages#automatically-convert-notebooks-to-blog-posts\n",
    "\n",
    "TODO нейминг постов + порядок публикации\n",
    "\n",
    "Ниже представлены различные возможности форматирования, которые `fastpages` поддерживает из коробки."
   ]
  },
  {
   "cell_type": "markdown",
   "metadata": {},
   "source": [
    "## Возможности форматирования постов\n",
    "\n",
    "Первая ячейка в вашем Jupyter ноутбуке (а также первые строки в Markdown файлах) содержит метаданные, которые могут включать/выключать опции связанные с постом.\n",
    "\n",
    "```\n",
    "# \"Title\"\n",
    "> \"Awesome summary\"\n",
    "\n",
    "- toc: true\n",
    "- branch: master\n",
    "- badges: true\n",
    "- comments: true\n",
    "- author: Hamel Husain & Jeremy Howard\n",
    "- categories: [fastpages, jupyter]\n",
    "```\n",
    "\n",
    "Для указания таких в Markdown файлах необходимо в начале файла задать опции как и в ноутбуке, только поместив эти метаданные между строк содержащих по три минуса, т.е. `---`.\n",
    "\n",
    "Выглядит это так:\n",
    "\n",
    "```\n",
    "---\n",
    "title: \"Title\"\n",
    "description: \"Awesome description\"\n",
    "toc: true\n",
    "layout: post\n",
    "categories: [markdown]\n",
    "---\n",
    "```\n"
   ]
  },
  {
   "cell_type": "markdown",
   "metadata": {},
   "source": [
    "> Note: Все, что определено в начале поста, должно соответствовать YAML разметке. Поэтому если вы хотите использовать двоеточие в заголовке, вы должны экранировать его двойными кавычками: `- title: \"Deep learning: A tutorial\"`\n",
    "\n",
    "Для большего понимания советую ознакомиться с [туториалом по YAML](https://rollout.io/blog/yaml-tutorial-everything-you-need-get-started/)."
   ]
  },
  {
   "cell_type": "markdown",
   "metadata": {},
   "source": [
    "Перечень управляющих конструкций для форматирования поста (взято [отсюда](https://github.com/fastai/fastpages#customizing-blog-posts-with-front-matter)):\n",
    "- `toc` - при значении `true` автоматически будет сгенерировано оглавление поста из заголовков, обозначенных Markdown разметкой;\n",
    "- `badges` \\[notebooks only\\] - при значении `true` отображаются ссылки `Google Colab`, `Binder` и `GitHub`, не работает при приватном репозитории;\n",
    "- `hide_github_badge` \\[notebooks only\\] - при значении `true` скроет ссылку на `GitHub`;\n",
    "- `hide_colab_badge` \\[notebooks only\\] - при значении `true` скроет ссылку на `Google Colab`;\n",
    "- `hide_binder_badge` \\[notebooks only\\] - при значении `true` скроет ссылку на `Binder`;\n",
    "- `branch` \\[notebooks only\\] - используется для дополнительной ссылки на ваш Jupyter ноутбук на Colab и GitHub. Значение по умолчанию: `master`;\n",
    "- `comments` - при значении `true` будут включены комментарии ([больше деталей](https://github.com/fastai/fastpages#enabling-comments));\n",
    "- `author` - при значении `true` отображаются имена авторов;\n",
    "- `categories` - позволяют группировать посты по тегам (на странице \"Tags\").\n",
    "- `image` - задает изображение для поста, которое будет отображаться на главной странице блога и в соц. сетях (Twitter) вместе с ссылкой на пост:\n",
    "    - пример задания изображения к посту - `images/figure.png`;\n",
    "    - изображение обязательно должно находиться внутри папке `/images` вашего репозитория;\n",
    "- `search_exclude` - позволяет скрывать пост в поиске блога (страница `Search`), стоит заменить, поиск работает только с латиницей;\n",
    "- `hide` - при значении `true` пост будет скрыт на главной странице блога, но будет доступен по прямой ссылке:\n",
    "    - рекомендуется использовать [permalinks](https://jekyllrb.com/docs/permalinks/) для создания предсказуемых ссылок на сам пост;\n",
    "    - если `search_exclude` будет иметь значение `true`, то пост можно будет найти через поиск блога (страница `Search`);\n",
    "- `sticky_rank` - позволяет закрепить пост на конкретной позиции, задав ему порядковый номер TODO чекнуть, что если 2 поста с одним номером;\n",
    "- `metadata_key1`: `metadata_value1` TODO https://github.com/fastai/fastpages#customizing-blog-posts-with-front-matter"
   ]
  },
  {
   "cell_type": "markdown",
   "metadata": {},
   "source": [
    "## Скрытие и сворачивание кода\n",
    "\n",
    "Приятной функциональностью этого движка для блога является возможность скрывать код и/или результаты его выполнения. Это позволяет не нагружать посты отображением простыни кода или огромного количество принтов (что бывает при обучении нейросетей по эпохам), скрывая эти большие по размеру элементы, но не выкидывая их из поста на совсем."
   ]
  },
  {
   "cell_type": "markdown",
   "metadata": {},
   "source": [
    "Комментарий `#hide` в первой строке любой ячейки кода будет скрывать как ввод, так и вывод этой ячейки.\n",
    "\n",
    "Ниже есть ячейка, которая не отображается в посте, но присутствует в исходном jupyter ноутбуке. Можете проверить на GitHub."
   ]
  },
  {
   "cell_type": "code",
   "execution_count": 1,
   "metadata": {},
   "outputs": [
    {
     "name": "stdout",
     "output_type": "stream",
     "text": [
      "Этой ячейки и результата ее запуска вы в блоге не увидете :)\n"
     ]
    }
   ],
   "source": [
    "#hide\n",
    "\n",
    "print('Этой ячейки и результата ее запуска вы в блоге не увидите.')"
   ]
  },
  {
   "cell_type": "markdown",
   "metadata": {},
   "source": [
    "Комментарий `#hide_input` в первой строке любой ячейки кода будет скрывать только ввод этой ячейки."
   ]
  },
  {
   "cell_type": "code",
   "execution_count": 2,
   "metadata": {},
   "outputs": [
    {
     "name": "stdout",
     "output_type": "stream",
     "text": [
      "Вы увидите только результат запуска ячейки, а именно этот комментарий.\n"
     ]
    }
   ],
   "source": [
    "#hide_input\n",
    "\n",
    "print('Вы увидите только результат запуска ячейки, а именно этот комментарий.')"
   ]
  },
  {
   "cell_type": "markdown",
   "metadata": {},
   "source": [
    "Поместив флаг `#collapse-hide`, в первую строку любой ячейки, вы скроете код этой ячейки внутри поста. Но в замен появится кнопка, позволяющая показать эту ячейку."
   ]
  },
  {
   "cell_type": "code",
   "execution_count": 1,
   "metadata": {},
   "outputs": [],
   "source": [
    "#collapse-hide\n",
    "import altair as alt\n",
    "import pandas as pd\n",
    "import numpy as np"
   ]
  },
  {
   "cell_type": "markdown",
   "metadata": {},
   "source": [
    "Флаг `#collapse-show` позволяет показать ячейку по умолчанию, но дает читателю возможность скрыть ее."
   ]
  },
  {
   "cell_type": "code",
   "execution_count": 2,
   "metadata": {},
   "outputs": [],
   "source": [
    "#collapse-show\n",
    "np.random.seed(42)\n",
    "source = pd.DataFrame(\n",
    "    np.cumsum(np.random.randn(100, 3), 0).round(2),\n",
    "    columns=['A', 'B', 'C'],\n",
    "    index=pd.RangeIndex(100, name='x')\n",
    ")\n",
    "source = source.reset_index().melt('x', var_name='category', value_name='y')"
   ]
  },
  {
   "cell_type": "markdown",
   "metadata": {},
   "source": [
    "## Интерактивные графики с помощью [Altair](https://altair-viz.github.io/)\n",
    "\n",
    "Графики построенные с помощью библиотеки Altair внутри поста остаются интерактивными как в ноутбуке."
   ]
  },
  {
   "cell_type": "code",
   "execution_count": 3,
   "metadata": {},
   "outputs": [
    {
     "data": {
      "text/html": [
       "\n",
       "<div id=\"altair-viz-f4dfb294aa1b45c0957bfb85ad7ecac6\"></div>\n",
       "<script type=\"text/javascript\">\n",
       "  (function(spec, embedOpt){\n",
       "    let outputDiv = document.currentScript.previousElementSibling;\n",
       "    if (outputDiv.id !== \"altair-viz-f4dfb294aa1b45c0957bfb85ad7ecac6\") {\n",
       "      outputDiv = document.getElementById(\"altair-viz-f4dfb294aa1b45c0957bfb85ad7ecac6\");\n",
       "    }\n",
       "    const paths = {\n",
       "      \"vega\": \"https://cdn.jsdelivr.net/npm//vega@5?noext\",\n",
       "      \"vega-lib\": \"https://cdn.jsdelivr.net/npm//vega-lib?noext\",\n",
       "      \"vega-lite\": \"https://cdn.jsdelivr.net/npm//vega-lite@4.8.1?noext\",\n",
       "      \"vega-embed\": \"https://cdn.jsdelivr.net/npm//vega-embed@6?noext\",\n",
       "    };\n",
       "\n",
       "    function loadScript(lib) {\n",
       "      return new Promise(function(resolve, reject) {\n",
       "        var s = document.createElement('script');\n",
       "        s.src = paths[lib];\n",
       "        s.async = true;\n",
       "        s.onload = () => resolve(paths[lib]);\n",
       "        s.onerror = () => reject(`Error loading script: ${paths[lib]}`);\n",
       "        document.getElementsByTagName(\"head\")[0].appendChild(s);\n",
       "      });\n",
       "    }\n",
       "\n",
       "    function showError(err) {\n",
       "      outputDiv.innerHTML = `<div class=\"error\" style=\"color:red;\">${err}</div>`;\n",
       "      throw err;\n",
       "    }\n",
       "\n",
       "    function displayChart(vegaEmbed) {\n",
       "      vegaEmbed(outputDiv, spec, embedOpt)\n",
       "        .catch(err => showError(`Javascript Error: ${err.message}<br>This usually means there's a typo in your chart specification. See the javascript console for the full traceback.`));\n",
       "    }\n",
       "\n",
       "    if(typeof define === \"function\" && define.amd) {\n",
       "      requirejs.config({paths});\n",
       "      require([\"vega-embed\"], displayChart, err => showError(`Error loading script: ${err.message}`));\n",
       "    } else if (typeof vegaEmbed === \"function\") {\n",
       "      displayChart(vegaEmbed);\n",
       "    } else {\n",
       "      loadScript(\"vega\")\n",
       "        .then(() => loadScript(\"vega-lite\"))\n",
       "        .then(() => loadScript(\"vega-embed\"))\n",
       "        .catch(showError)\n",
       "        .then(() => displayChart(vegaEmbed));\n",
       "    }\n",
       "  })({\"config\": {\"view\": {\"continuousWidth\": 400, \"continuousHeight\": 300}}, \"layer\": [{\"mark\": {\"type\": \"line\", \"interpolate\": \"basis\"}, \"encoding\": {\"color\": {\"type\": \"nominal\", \"field\": \"category\"}, \"x\": {\"type\": \"quantitative\", \"field\": \"x\"}, \"y\": {\"type\": \"quantitative\", \"field\": \"y\"}}}, {\"mark\": \"point\", \"encoding\": {\"opacity\": {\"value\": 0}, \"x\": {\"type\": \"quantitative\", \"field\": \"x\"}}, \"selection\": {\"selector001\": {\"type\": \"single\", \"nearest\": true, \"on\": \"mouseover\", \"fields\": [\"x\"], \"empty\": \"none\"}}}, {\"mark\": \"point\", \"encoding\": {\"color\": {\"type\": \"nominal\", \"field\": \"category\"}, \"opacity\": {\"condition\": {\"value\": 1, \"selection\": \"selector001\"}, \"value\": 0}, \"x\": {\"type\": \"quantitative\", \"field\": \"x\"}, \"y\": {\"type\": \"quantitative\", \"field\": \"y\"}}}, {\"mark\": {\"type\": \"rule\", \"color\": \"gray\"}, \"encoding\": {\"x\": {\"type\": \"quantitative\", \"field\": \"x\"}}, \"transform\": [{\"filter\": {\"selection\": \"selector001\"}}]}, {\"mark\": {\"type\": \"text\", \"align\": \"left\", \"dx\": 5, \"dy\": -5}, \"encoding\": {\"color\": {\"type\": \"nominal\", \"field\": \"category\"}, \"text\": {\"condition\": {\"type\": \"quantitative\", \"field\": \"y\", \"selection\": \"selector001\"}, \"value\": \" \"}, \"x\": {\"type\": \"quantitative\", \"field\": \"x\"}, \"y\": {\"type\": \"quantitative\", \"field\": \"y\"}}}], \"data\": {\"name\": \"data-6721a5d73fc2eb4feb320b5cbb7cae62\"}, \"height\": 300, \"width\": 600, \"$schema\": \"https://vega.github.io/schema/vega-lite/v4.8.1.json\", \"datasets\": {\"data-6721a5d73fc2eb4feb320b5cbb7cae62\": [{\"x\": 0, \"category\": \"A\", \"y\": 0.5}, {\"x\": 1, \"category\": \"A\", \"y\": 2.02}, {\"x\": 2, \"category\": \"A\", \"y\": 3.6}, {\"x\": 3, \"category\": \"A\", \"y\": 4.14}, {\"x\": 4, \"category\": \"A\", \"y\": 4.38}, {\"x\": 5, \"category\": \"A\", \"y\": 3.82}, {\"x\": 6, \"category\": \"A\", \"y\": 2.91}, {\"x\": 7, \"category\": \"A\", \"y\": 2.69}, {\"x\": 8, \"category\": \"A\", \"y\": 2.14}, {\"x\": 9, \"category\": \"A\", \"y\": 2.52}, {\"x\": 10, \"category\": \"A\", \"y\": 1.92}, {\"x\": 11, \"category\": \"A\", \"y\": 0.86}, {\"x\": 12, \"category\": \"A\", \"y\": 1.07}, {\"x\": 13, \"category\": \"A\", \"y\": 1.27}, {\"x\": 14, \"category\": \"A\", \"y\": 1.15}, {\"x\": 15, \"category\": \"A\", \"y\": 0.43}, {\"x\": 16, \"category\": \"A\", \"y\": 0.77}, {\"x\": 17, \"category\": \"A\", \"y\": 0.39}, {\"x\": 18, \"category\": \"A\", \"y\": 1.42}, {\"x\": 19, \"category\": \"A\", \"y\": 1.11}, {\"x\": 20, \"category\": \"A\", \"y\": 0.63}, {\"x\": 21, \"category\": \"A\", \"y\": -0.57}, {\"x\": 22, \"category\": \"A\", \"y\": -0.64}, {\"x\": 23, \"category\": \"A\", \"y\": -1.28}, {\"x\": 24, \"category\": \"A\", \"y\": -1.32}, {\"x\": 25, \"category\": \"A\", \"y\": -0.5}, {\"x\": 26, \"category\": \"A\", \"y\": -0.4}, {\"x\": 27, \"category\": \"A\", \"y\": -0.05}, {\"x\": 28, \"category\": \"A\", \"y\": -0.86}, {\"x\": 29, \"category\": \"A\", \"y\": -0.53}, {\"x\": 30, \"category\": \"A\", \"y\": -0.43}, {\"x\": 31, \"category\": \"A\", \"y\": -0.76}, {\"x\": 32, \"category\": \"A\", \"y\": -0.46}, {\"x\": 33, \"category\": \"A\", \"y\": -0.7}, {\"x\": 34, \"category\": \"A\", \"y\": -1.04}, {\"x\": 35, \"category\": \"A\", \"y\": -0.64}, {\"x\": 36, \"category\": \"A\", \"y\": -0.38}, {\"x\": 37, \"category\": \"A\", \"y\": -0.4}, {\"x\": 38, \"category\": \"A\", \"y\": -0.6}, {\"x\": 39, \"category\": \"A\", \"y\": -1.77}, {\"x\": 40, \"category\": \"A\", \"y\": -0.97}, {\"x\": 41, \"category\": \"A\", \"y\": -2.38}, {\"x\": 42, \"category\": \"A\", \"y\": -3.37}, {\"x\": 43, \"category\": \"A\", \"y\": -3.87}, {\"x\": 44, \"category\": \"A\", \"y\": -4.93}, {\"x\": 45, \"category\": \"A\", \"y\": -3.38}, {\"x\": 46, \"category\": \"A\", \"y\": -2.57}, {\"x\": 47, \"category\": \"A\", \"y\": -1.26}, {\"x\": 48, \"category\": \"A\", \"y\": -1.0}, {\"x\": 49, \"category\": \"A\", \"y\": -2.32}, {\"x\": 50, \"category\": \"A\", \"y\": -2.07}, {\"x\": 51, \"category\": \"A\", \"y\": -1.84}, {\"x\": 52, \"category\": \"A\", \"y\": 0.03}, {\"x\": 53, \"category\": \"A\", \"y\": 0.68}, {\"x\": 54, \"category\": \"A\", \"y\": 1.84}, {\"x\": 55, \"category\": \"A\", \"y\": 2.25}, {\"x\": 56, \"category\": \"A\", \"y\": 2.01}, {\"x\": 57, \"category\": \"A\", \"y\": 1.19}, {\"x\": 58, \"category\": \"A\", \"y\": 1.47}, {\"x\": 59, \"category\": \"A\", \"y\": 2.92}, {\"x\": 60, \"category\": \"A\", \"y\": 3.55}, {\"x\": 61, \"category\": \"A\", \"y\": 4.03}, {\"x\": 62, \"category\": \"A\", \"y\": 4.5}, {\"x\": 63, \"category\": \"A\", \"y\": 2.99}, {\"x\": 64, \"category\": \"A\", \"y\": 3.2}, {\"x\": 65, \"category\": \"A\", \"y\": 3.59}, {\"x\": 66, \"category\": \"A\", \"y\": 3.65}, {\"x\": 67, \"category\": \"A\", \"y\": 4.21}, {\"x\": 68, \"category\": \"A\", \"y\": 2.83}, {\"x\": 69, \"category\": \"A\", \"y\": 3.34}, {\"x\": 70, \"category\": \"A\", \"y\": 3.92}, {\"x\": 71, \"category\": \"A\", \"y\": 4.57}, {\"x\": 72, \"category\": \"A\", \"y\": 3.79}, {\"x\": 73, \"category\": \"A\", \"y\": 3.88}, {\"x\": 74, \"category\": \"A\", \"y\": 4.56}, {\"x\": 75, \"category\": \"A\", \"y\": 5.65}, {\"x\": 76, \"category\": \"A\", \"y\": 4.94}, {\"x\": 77, \"category\": \"A\", \"y\": 5.15}, {\"x\": 78, \"category\": \"A\", \"y\": 7.3}, {\"x\": 79, \"category\": \"A\", \"y\": 7.48}, {\"x\": 80, \"category\": \"A\", \"y\": 6.69}, {\"x\": 81, \"category\": \"A\", \"y\": 7.56}, {\"x\": 82, \"category\": \"A\", \"y\": 7.08}, {\"x\": 83, \"category\": \"A\", \"y\": 7.49}, {\"x\": 84, \"category\": \"A\", \"y\": 9.61}, {\"x\": 85, \"category\": \"A\", \"y\": 9.12}, {\"x\": 86, \"category\": \"A\", \"y\": 9.57}, {\"x\": 87, \"category\": \"A\", \"y\": 9.51}, {\"x\": 88, \"category\": \"A\", \"y\": 9.26}, {\"x\": 89, \"category\": \"A\", \"y\": 7.83}, {\"x\": 90, \"category\": \"A\", \"y\": 9.27}, {\"x\": 91, \"category\": \"A\", \"y\": 9.28}, {\"x\": 92, \"category\": \"A\", \"y\": 9.48}, {\"x\": 93, \"category\": \"A\", \"y\": 9.09}, {\"x\": 94, \"category\": \"A\", \"y\": 10.68}, {\"x\": 95, \"category\": \"A\", \"y\": 8.72}, {\"x\": 96, \"category\": \"A\", \"y\": 9.01}, {\"x\": 97, \"category\": \"A\", \"y\": 8.51}, {\"x\": 98, \"category\": \"A\", \"y\": 8.87}, {\"x\": 99, \"category\": \"A\", \"y\": 9.18}, {\"x\": 0, \"category\": \"B\", \"y\": -0.14}, {\"x\": 1, \"category\": \"B\", \"y\": -0.37}, {\"x\": 2, \"category\": \"B\", \"y\": 0.4}, {\"x\": 3, \"category\": \"B\", \"y\": -0.07}, {\"x\": 4, \"category\": \"B\", \"y\": -1.98}, {\"x\": 5, \"category\": \"B\", \"y\": -2.99}, {\"x\": 6, \"category\": \"B\", \"y\": -4.41}, {\"x\": 7, \"category\": \"B\", \"y\": -4.34}, {\"x\": 8, \"category\": \"B\", \"y\": -4.23}, {\"x\": 9, \"category\": \"B\", \"y\": -4.83}, {\"x\": 10, \"category\": \"B\", \"y\": -2.98}, {\"x\": 11, \"category\": \"B\", \"y\": -2.15}, {\"x\": 12, \"category\": \"B\", \"y\": -4.11}, {\"x\": 13, \"category\": \"B\", \"y\": -3.38}, {\"x\": 14, \"category\": \"B\", \"y\": -3.68}, {\"x\": 15, \"category\": \"B\", \"y\": -4.14}, {\"x\": 16, \"category\": \"B\", \"y\": -5.9}, {\"x\": 17, \"category\": \"B\", \"y\": -6.58}, {\"x\": 18, \"category\": \"B\", \"y\": -5.65}, {\"x\": 19, \"category\": \"B\", \"y\": -5.31}, {\"x\": 20, \"category\": \"B\", \"y\": -5.5}, {\"x\": 21, \"category\": \"B\", \"y\": -4.69}, {\"x\": 22, \"category\": \"B\", \"y\": -3.68}, {\"x\": 23, \"category\": \"B\", \"y\": -3.32}, {\"x\": 24, \"category\": \"B\", \"y\": -1.76}, {\"x\": 25, \"category\": \"B\", \"y\": -1.67}, {\"x\": 26, \"category\": \"B\", \"y\": -3.66}, {\"x\": 27, \"category\": \"B\", \"y\": -2.18}, {\"x\": 28, \"category\": \"B\", \"y\": -2.68}, {\"x\": 29, \"category\": \"B\", \"y\": -3.21}, {\"x\": 30, \"category\": \"B\", \"y\": -2.24}, {\"x\": 31, \"category\": \"B\", \"y\": -2.64}, {\"x\": 32, \"category\": \"B\", \"y\": -2.37}, {\"x\": 33, \"category\": \"B\", \"y\": -3.79}, {\"x\": 34, \"category\": \"B\", \"y\": -4.59}, {\"x\": 35, \"category\": \"B\", \"y\": -2.71}, {\"x\": 36, \"category\": \"B\", \"y\": -2.78}, {\"x\": 37, \"category\": \"B\", \"y\": -2.72}, {\"x\": 38, \"category\": \"B\", \"y\": -2.42}, {\"x\": 39, \"category\": \"B\", \"y\": -1.28}, {\"x\": 40, \"category\": \"B\", \"y\": -2.19}, {\"x\": 41, \"category\": \"B\", \"y\": -1.6}, {\"x\": 42, \"category\": \"B\", \"y\": -2.16}, {\"x\": 43, \"category\": \"B\", \"y\": -3.72}, {\"x\": 44, \"category\": \"B\", \"y\": -3.24}, {\"x\": 45, \"category\": \"B\", \"y\": -4.03}, {\"x\": 46, \"category\": \"B\", \"y\": -5.26}, {\"x\": 47, \"category\": \"B\", \"y\": -6.86}, {\"x\": 48, \"category\": \"B\", \"y\": -6.08}, {\"x\": 49, \"category\": \"B\", \"y\": -5.56}, {\"x\": 50, \"category\": \"B\", \"y\": -5.21}, {\"x\": 51, \"category\": \"B\", \"y\": -4.92}, {\"x\": 52, \"category\": \"B\", \"y\": -4.45}, {\"x\": 53, \"category\": \"B\", \"y\": -5.42}, {\"x\": 54, \"category\": \"B\", \"y\": -6.24}, {\"x\": 55, \"category\": \"B\", \"y\": -5.42}, {\"x\": 56, \"category\": \"B\", \"y\": -6.17}, {\"x\": 57, \"category\": \"B\", \"y\": -6.25}, {\"x\": 58, \"category\": \"B\", \"y\": -5.42}, {\"x\": 59, \"category\": \"B\", \"y\": -5.69}, {\"x\": 60, \"category\": \"B\", \"y\": -6.55}, {\"x\": 61, \"category\": \"B\", \"y\": -6.77}, {\"x\": 62, \"category\": \"B\", \"y\": -6.84}, {\"x\": 63, \"category\": \"B\", \"y\": -7.29}, {\"x\": 64, \"category\": \"B\", \"y\": -8.53}, {\"x\": 65, \"category\": \"B\", \"y\": -9.42}, {\"x\": 66, \"category\": \"B\", \"y\": -10.56}, {\"x\": 67, \"category\": \"B\", \"y\": -9.48}, {\"x\": 68, \"category\": \"B\", \"y\": -10.42}, {\"x\": 69, \"category\": \"B\", \"y\": -9.9}, {\"x\": 70, \"category\": \"B\", \"y\": -8.76}, {\"x\": 71, \"category\": \"B\", \"y\": -9.08}, {\"x\": 72, \"category\": \"B\", \"y\": -9.32}, {\"x\": 73, \"category\": \"B\", \"y\": -7.0}, {\"x\": 74, \"category\": \"B\", \"y\": -8.61}, {\"x\": 75, \"category\": \"B\", \"y\": -8.55}, {\"x\": 76, \"category\": \"B\", \"y\": -7.87}, {\"x\": 77, \"category\": \"B\", \"y\": -7.83}, {\"x\": 78, \"category\": \"B\", \"y\": -7.19}, {\"x\": 79, \"category\": \"B\", \"y\": -7.85}, {\"x\": 80, \"category\": \"B\", \"y\": -7.97}, {\"x\": 81, \"category\": \"B\", \"y\": -9.17}, {\"x\": 82, \"category\": \"B\", \"y\": -9.82}, {\"x\": 83, \"category\": \"B\", \"y\": -11.08}, {\"x\": 84, \"category\": \"B\", \"y\": -10.05}, {\"x\": 85, \"category\": \"B\", \"y\": -8.78}, {\"x\": 86, \"category\": \"B\", \"y\": -8.01}, {\"x\": 87, \"category\": \"B\", \"y\": -11.25}, {\"x\": 88, \"category\": \"B\", \"y\": -12.5}, {\"x\": 89, \"category\": \"B\", \"y\": -12.94}, {\"x\": 90, \"category\": \"B\", \"y\": -14.37}, {\"x\": 91, \"category\": \"B\", \"y\": -15.35}, {\"x\": 92, \"category\": \"B\", \"y\": -15.96}, {\"x\": 93, \"category\": \"B\", \"y\": -15.84}, {\"x\": 94, \"category\": \"B\", \"y\": -17.08}, {\"x\": 95, \"category\": \"B\", \"y\": -17.23}, {\"x\": 96, \"category\": \"B\", \"y\": -17.85}, {\"x\": 97, \"category\": \"B\", \"y\": -18.44}, {\"x\": 98, \"category\": \"B\", \"y\": -19.14}, {\"x\": 99, \"category\": \"B\", \"y\": -18.32}, {\"x\": 0, \"category\": \"C\", \"y\": 0.65}, {\"x\": 1, \"category\": \"C\", \"y\": 0.41}, {\"x\": 2, \"category\": \"C\", \"y\": -0.06}, {\"x\": 3, \"category\": \"C\", \"y\": -0.52}, {\"x\": 4, \"category\": \"C\", \"y\": -2.25}, {\"x\": 5, \"category\": \"C\", \"y\": -1.93}, {\"x\": 6, \"category\": \"C\", \"y\": -0.47}, {\"x\": 7, \"category\": \"C\", \"y\": -1.89}, {\"x\": 8, \"category\": \"C\", \"y\": -3.04}, {\"x\": 9, \"category\": \"C\", \"y\": -3.33}, {\"x\": 10, \"category\": \"C\", \"y\": -3.35}, {\"x\": 11, \"category\": \"C\", \"y\": -4.57}, {\"x\": 12, \"category\": \"C\", \"y\": -5.9}, {\"x\": 13, \"category\": \"C\", \"y\": -5.73}, {\"x\": 14, \"category\": \"C\", \"y\": -7.2}, {\"x\": 15, \"category\": \"C\", \"y\": -6.15}, {\"x\": 16, \"category\": \"C\", \"y\": -5.82}, {\"x\": 17, \"category\": \"C\", \"y\": -5.21}, {\"x\": 18, \"category\": \"C\", \"y\": -6.05}, {\"x\": 19, \"category\": \"C\", \"y\": -5.07}, {\"x\": 20, \"category\": \"C\", \"y\": -6.18}, {\"x\": 21, \"category\": \"C\", \"y\": -4.82}, {\"x\": 22, \"category\": \"C\", \"y\": -4.46}, {\"x\": 23, \"category\": \"C\", \"y\": -2.93}, {\"x\": 24, \"category\": \"C\", \"y\": -5.54}, {\"x\": 25, \"category\": \"C\", \"y\": -5.84}, {\"x\": 26, \"category\": \"C\", \"y\": -6.06}, {\"x\": 27, \"category\": \"C\", \"y\": -6.58}, {\"x\": 28, \"category\": \"C\", \"y\": -5.67}, {\"x\": 29, \"category\": \"C\", \"y\": -5.15}, {\"x\": 30, \"category\": \"C\", \"y\": -5.86}, {\"x\": 31, \"category\": \"C\", \"y\": -7.32}, {\"x\": 32, \"category\": \"C\", \"y\": -7.31}, {\"x\": 33, \"category\": \"C\", \"y\": -7.73}, {\"x\": 34, \"category\": \"C\", \"y\": -7.9}, {\"x\": 35, \"category\": \"C\", \"y\": -7.72}, {\"x\": 36, \"category\": \"C\", \"y\": -9.64}, {\"x\": 37, \"category\": \"C\", \"y\": -7.18}, {\"x\": 38, \"category\": \"C\", \"y\": -7.21}, {\"x\": 39, \"category\": \"C\", \"y\": -6.46}, {\"x\": 40, \"category\": \"C\", \"y\": -5.06}, {\"x\": 41, \"category\": \"C\", \"y\": -2.87}, {\"x\": 42, \"category\": \"C\", \"y\": -2.77}, {\"x\": 43, \"category\": \"C\", \"y\": -2.7}, {\"x\": 44, \"category\": \"C\", \"y\": -3.62}, {\"x\": 45, \"category\": \"C\", \"y\": -3.94}, {\"x\": 46, \"category\": \"C\", \"y\": -3.71}, {\"x\": 47, \"category\": \"C\", \"y\": -3.53}, {\"x\": 48, \"category\": \"C\", \"y\": -4.76}, {\"x\": 49, \"category\": \"C\", \"y\": -4.47}, {\"x\": 50, \"category\": \"C\", \"y\": -5.15}, {\"x\": 51, \"category\": \"C\", \"y\": -5.86}, {\"x\": 52, \"category\": \"C\", \"y\": -7.05}, {\"x\": 53, \"category\": \"C\", \"y\": -6.27}, {\"x\": 54, \"category\": \"C\", \"y\": -5.3}, {\"x\": 55, \"category\": \"C\", \"y\": -3.41}, {\"x\": 56, \"category\": \"C\", \"y\": -4.29}, {\"x\": 57, \"category\": \"C\", \"y\": -3.95}, {\"x\": 58, \"category\": \"C\", \"y\": -3.94}, {\"x\": 59, \"category\": \"C\", \"y\": -1.22}, {\"x\": 60, \"category\": \"C\", \"y\": -2.29}, {\"x\": 61, \"category\": \"C\", \"y\": -1.58}, {\"x\": 62, \"category\": \"C\", \"y\": -2.42}, {\"x\": 63, \"category\": \"C\", \"y\": -1.57}, {\"x\": 64, \"category\": \"C\", \"y\": -1.39}, {\"x\": 65, \"category\": \"C\", \"y\": -1.24}, {\"x\": 66, \"category\": \"C\", \"y\": -0.88}, {\"x\": 67, \"category\": \"C\", \"y\": 0.17}, {\"x\": 68, \"category\": \"C\", \"y\": 0.69}, {\"x\": 69, \"category\": \"C\", \"y\": 4.54}, {\"x\": 70, \"category\": \"C\", \"y\": 5.49}, {\"x\": 71, \"category\": \"C\", \"y\": 6.25}, {\"x\": 72, \"category\": \"C\", \"y\": 5.77}, {\"x\": 73, \"category\": \"C\", \"y\": 3.9}, {\"x\": 74, \"category\": \"C\", \"y\": 3.43}, {\"x\": 75, \"category\": \"C\", \"y\": 2.35}, {\"x\": 76, \"category\": \"C\", \"y\": 1.62}, {\"x\": 77, \"category\": \"C\", \"y\": 0.97}, {\"x\": 78, \"category\": \"C\", \"y\": -1.06}, {\"x\": 79, \"category\": \"C\", \"y\": -0.21}, {\"x\": 80, \"category\": \"C\", \"y\": 0.3}, {\"x\": 81, \"category\": \"C\", \"y\": -0.04}, {\"x\": 82, \"category\": \"C\", \"y\": 1.73}, {\"x\": 83, \"category\": \"C\", \"y\": 2.65}, {\"x\": 84, \"category\": \"C\", \"y\": 1.13}, {\"x\": 85, \"category\": \"C\", \"y\": 0.42}, {\"x\": 86, \"category\": \"C\", \"y\": -0.51}, {\"x\": 87, \"category\": \"C\", \"y\": -1.53}, {\"x\": 88, \"category\": \"C\", \"y\": 0.1}, {\"x\": 89, \"category\": \"C\", \"y\": 0.23}, {\"x\": 90, \"category\": \"C\", \"y\": 1.4}, {\"x\": 91, \"category\": \"C\", \"y\": 1.86}, {\"x\": 92, \"category\": \"C\", \"y\": 1.93}, {\"x\": 93, \"category\": \"C\", \"y\": 2.59}, {\"x\": 94, \"category\": \"C\", \"y\": 4.72}, {\"x\": 95, \"category\": \"C\", \"y\": 5.31}, {\"x\": 96, \"category\": \"C\", \"y\": 5.1}, {\"x\": 97, \"category\": \"C\", \"y\": 5.95}, {\"x\": 98, \"category\": \"C\", \"y\": 6.85}, {\"x\": 99, \"category\": \"C\", \"y\": 7.48}]}}, {\"mode\": \"vega-lite\"});\n",
       "</script>"
      ],
      "text/plain": [
       "alt.LayerChart(...)"
      ]
     },
     "execution_count": 3,
     "metadata": {},
     "output_type": "execute_result"
    }
   ],
   "source": [
    "#collapse-hide\n",
    "\n",
    "# код отсюда: https://altair-viz.github.io/gallery/multiline_tooltip.html\n",
    "\n",
    "# Create a selection that chooses the nearest point & selects based on x-value\n",
    "nearest = alt.selection(type='single', nearest=True, on='mouseover',\n",
    "                        fields=['x'], empty='none')\n",
    "\n",
    "# The basic line\n",
    "line = alt.Chart(source).mark_line(interpolate='basis').encode(\n",
    "    x='x:Q',\n",
    "    y='y:Q',\n",
    "    color='category:N'\n",
    ")\n",
    "\n",
    "# Transparent selectors across the chart. This is what tells us\n",
    "# the x-value of the cursor\n",
    "selectors = alt.Chart(source).mark_point().encode(\n",
    "    x='x:Q',\n",
    "    opacity=alt.value(0),\n",
    ").add_selection(\n",
    "    nearest\n",
    ")\n",
    "\n",
    "# Draw points on the line, and highlight based on selection\n",
    "points = line.mark_point().encode(\n",
    "    opacity=alt.condition(nearest, alt.value(1), alt.value(0))\n",
    ")\n",
    "\n",
    "# Draw text labels near the points, and highlight based on selection\n",
    "text = line.mark_text(align='left', dx=5, dy=-5).encode(\n",
    "    text=alt.condition(nearest, 'y:Q', alt.value(' '))\n",
    ")\n",
    "\n",
    "# Draw a rule at the location of the selection\n",
    "rules = alt.Chart(source).mark_rule(color='gray').encode(\n",
    "    x='x:Q',\n",
    ").transform_filter(\n",
    "    nearest\n",
    ")\n",
    "\n",
    "# Put the five layers into a chart and bind the data\n",
    "alt.layer(\n",
    "    line, selectors, points, rules, text\n",
    ").properties(\n",
    "    width=600, height=300\n",
    ")"
   ]
  },
  {
   "cell_type": "markdown",
   "metadata": {},
   "source": [
    "## Отображение таблиц\n",
    "\n",
    "Таблицы в опубликованных постах отображаются примерно как и в Jupyter ноутбуках. "
   ]
  },
  {
   "cell_type": "code",
   "execution_count": 6,
   "metadata": {},
   "outputs": [
    {
     "data": {
      "text/html": [
       "<div>\n",
       "<style scoped>\n",
       "    .dataframe tbody tr th:only-of-type {\n",
       "        vertical-align: middle;\n",
       "    }\n",
       "\n",
       "    .dataframe tbody tr th {\n",
       "        vertical-align: top;\n",
       "    }\n",
       "\n",
       "    .dataframe thead th {\n",
       "        text-align: right;\n",
       "    }\n",
       "</style>\n",
       "<table border=\"1\" class=\"dataframe\">\n",
       "  <thead>\n",
       "    <tr style=\"text-align: right;\">\n",
       "      <th></th>\n",
       "      <th>x</th>\n",
       "      <th>category</th>\n",
       "      <th>y</th>\n",
       "    </tr>\n",
       "  </thead>\n",
       "  <tbody>\n",
       "    <tr>\n",
       "      <th>0</th>\n",
       "      <td>0</td>\n",
       "      <td>A</td>\n",
       "      <td>0.50</td>\n",
       "    </tr>\n",
       "    <tr>\n",
       "      <th>1</th>\n",
       "      <td>1</td>\n",
       "      <td>A</td>\n",
       "      <td>2.02</td>\n",
       "    </tr>\n",
       "    <tr>\n",
       "      <th>2</th>\n",
       "      <td>2</td>\n",
       "      <td>A</td>\n",
       "      <td>3.60</td>\n",
       "    </tr>\n",
       "    <tr>\n",
       "      <th>3</th>\n",
       "      <td>3</td>\n",
       "      <td>A</td>\n",
       "      <td>4.14</td>\n",
       "    </tr>\n",
       "    <tr>\n",
       "      <th>4</th>\n",
       "      <td>4</td>\n",
       "      <td>A</td>\n",
       "      <td>4.38</td>\n",
       "    </tr>\n",
       "    <tr>\n",
       "      <th>...</th>\n",
       "      <td>...</td>\n",
       "      <td>...</td>\n",
       "      <td>...</td>\n",
       "    </tr>\n",
       "    <tr>\n",
       "      <th>295</th>\n",
       "      <td>95</td>\n",
       "      <td>C</td>\n",
       "      <td>5.31</td>\n",
       "    </tr>\n",
       "    <tr>\n",
       "      <th>296</th>\n",
       "      <td>96</td>\n",
       "      <td>C</td>\n",
       "      <td>5.10</td>\n",
       "    </tr>\n",
       "    <tr>\n",
       "      <th>297</th>\n",
       "      <td>97</td>\n",
       "      <td>C</td>\n",
       "      <td>5.95</td>\n",
       "    </tr>\n",
       "    <tr>\n",
       "      <th>298</th>\n",
       "      <td>98</td>\n",
       "      <td>C</td>\n",
       "      <td>6.85</td>\n",
       "    </tr>\n",
       "    <tr>\n",
       "      <th>299</th>\n",
       "      <td>99</td>\n",
       "      <td>C</td>\n",
       "      <td>7.48</td>\n",
       "    </tr>\n",
       "  </tbody>\n",
       "</table>\n",
       "<p>300 rows × 3 columns</p>\n",
       "</div>"
      ],
      "text/plain": [
       "      x category     y\n",
       "0     0        A  0.50\n",
       "1     1        A  2.02\n",
       "2     2        A  3.60\n",
       "3     3        A  4.14\n",
       "4     4        A  4.38\n",
       "..   ..      ...   ...\n",
       "295  95        C  5.31\n",
       "296  96        C  5.10\n",
       "297  97        C  5.95\n",
       "298  98        C  6.85\n",
       "299  99        C  7.48\n",
       "\n",
       "[300 rows x 3 columns]"
      ]
     },
     "execution_count": 6,
     "metadata": {},
     "output_type": "execute_result"
    }
   ],
   "source": [
    "source"
   ]
  },
  {
   "cell_type": "markdown",
   "metadata": {},
   "source": [
    "## Вставка изображений\n",
    "Вы можете добавлять изображения с подписями следующим образом:\n",
    "\n",
    "`![](https://www.fast.ai/images/fastai_paper/show_batch.png \"Credit: https://www.fast.ai/2020/02/13/fastai-A-Layered-API-for-Deep-Learning/\")`\n",
    "\n",
    "![](https://www.fast.ai/images/fastai_paper/show_batch.png \"Credit: https://www.fast.ai/2020/02/13/fastai-A-Layered-API-for-Deep-Learning/\")\n",
    "\n",
    "Напомню, что подписи опциональны, и что изображения можно указывать как локально (в рамках репозитория блога), так и находящиеся в открытом доступе (имею в виду интернет)."
   ]
  },
  {
   "cell_type": "markdown",
   "metadata": {},
   "source": [
    "## Анимированные гифки\n",
    "\n",
    "Гифки вставляются как изображения и полноценно отображаются в постах.\n",
    "\n",
    "![](https://upload.wikimedia.org/wikipedia/commons/7/71/ChessPawnSpecialMoves.gif)"
   ]
  },
  {
   "cell_type": "markdown",
   "metadata": {},
   "source": [
    "## Видео Youtube\n",
    "Чтобы красиво вставить видео с Youtube достаточно использовать конструкцию:\n",
    "\n",
    "`> youtube: https://youtu.be/L0boq3zqazI`\n",
    "\n",
    "[Видео туториал](#Видео-туториал) по настройке блога прикреплен именно таким образом."
   ]
  },
  {
   "cell_type": "markdown",
   "metadata": {},
   "source": [
    "## Посты из твитера\n",
    "Есть возможность отображать посты из твиттера.\n",
    "\n",
    "Например, ссылка на этот пост `> twitter: https://twitter.com/jakevdp/status/1204765621767901185?s=20` отобразит слудущее:\n",
    "\n",
    "> twitter: https://twitter.com/jakevdp/status/1204765621767901185?s=20"
   ]
  },
  {
   "cell_type": "markdown",
   "metadata": {},
   "source": [
    "## `LaTeX` формулы\n",
    "Jupyter ноутбуки поддерживают синтаксис `LaTeX` формул. Чтобы формулы отображались в постах, нужно убедиться, что опция `use_math` включена внутри `_config.yml` (см. [Настройка блога](#Настройка-блога)).\n",
    "\n",
    "Следуюший `LaTeX` код:\n",
    "> `$$L(\\theta) = \\frac{1}{N} \\sum_i^N{(y_i - \\hat{y_i})^2} \\rightarrow \\min_{\\theta}$$`\n",
    "\n",
    "будет отображен таким образом:\n",
    "$$L(\\theta) = \\frac{1}{N} \\sum_i^N{(y_i - \\hat{y_i})^2} \\rightarrow \\min_{\\theta}$$"
   ]
  },
  {
   "cell_type": "markdown",
   "metadata": {},
   "source": [
    "## Примечания\n",
    "\n",
    "Есть возможность отображать примечания различных типов.\n",
    "\n",
    "**Предупреждение:** `> Warning: There will be no second warning!`\n",
    "\n",
    "> Warning: There will be no second warning!\n",
    "\n",
    "\n",
    "**Важно:**  `> Important: Pay attention! It's important.`\n",
    "\n",
    "> Important: Pay attention! It's important.\n",
    "\n",
    "\n",
    "**Подсказка:**  `> Tip: This is my tip.`\n",
    "\n",
    "> Tip: This is my tip.\n",
    "\n",
    "\n",
    "**Заметка:**  `> Note: Take note of this.`\n",
    "\n",
    "> Note: Take note of this.\n",
    "\n",
    "\n",
    "Если вставить в любое из примечаний ссылку, то она будет работать.\n",
    "\n",
    "Например, \n",
    "\n",
    "`> Note: A doc link to [an example website: fast.ai](https://www.fast.ai/) should also work fine.`\n",
    "\n",
    "отобразится так:\n",
    "\n",
    "> Note: A doc link to [an example website: fast.ai](https://www.fast.ai/) should also work fine."
   ]
  },
  {
   "cell_type": "markdown",
   "metadata": {},
   "source": [
    "## Отображение Emoji\n",
    "Если написать `Сейчас будет эмоджи :robot:.`, то получится\n",
    "\n",
    "Сейчас будет эмоджи :robot:.\n",
    "\n",
    "[Шпаргалка](https://www.webfx.com/tools/emoji-cheat-sheet/) по Emoji."
   ]
  },
  {
   "cell_type": "markdown",
   "metadata": {},
   "source": [
    "## Сноски\n",
    "\n",
    "В jupyter ноутбуках можно использовать сноски, однако синтаксис отличается от Markdown разметки. Это [руководство](https://github.com/fastai/fastpages/blob/master/_fastpages_docs/NOTEBOOK_FOOTNOTES.md) содержит более подробную информацию об этом синтаксисе, который выглядит следующим образом:\n",
    "\n",
    "```\n",
    "{% raw %}For example, here is a footnote {% fn 1 %}.\n",
    "And another {% fn 2 %}\n",
    "{{ 'This is the footnote.' | fndetail: 1 }}\n",
    "{{ 'This is the other footnote. You can even have a [link](https://fastpages.fast.ai/jupyter/2020/02/20/test.html#Footnotes)' | fndetail: 2 }}{% endraw %}\n",
    "```\n",
    "\n",
    "For example, here is a footnote {% fn 1 %}.\n",
    "And another {% fn 2 %}\n",
    "{{ 'This is the footnote.' | fndetail: 1 }}\n",
    "{{ 'This is the other footnote. You can even have a [link](https://fastpages.fast.ai/jupyter/2020/02/20/test.html#Footnotes)' | fndetail: 2 }}"
   ]
  },
  {
   "cell_type": "markdown",
   "metadata": {},
   "source": [
    "# Как `fastpages` конвертирует исходные файлы посты\n",
    "\n",
    "Для этого `fastpages` использует [nbdev](https://nbdev.fast.ai/index.html) для преобразования jupyter ноутбуков, word и `.md` файлов в посты блога. После того, как вы сохраните исходные файлы своих постов в папках `/_notebooks`, `/_word` или `/_posts`, то GitHub Actions c помощью nbdev автоматически преобразует их в конечный вид, в котором посты отображаются на сайте вашего блога."
   ]
  },
  {
   "cell_type": "markdown",
   "metadata": {},
   "source": [
    "# `fast_template` - младший брат `fastpages`\n",
    "Стоит упомянуть, что ранее `fast.ai` выпустили аналогичный проект под названием [fast_template](https://github.com/fastai/fast_template/), который еще проще в настройке, но не поддерживает автоматическое создание постов из Word и Jupyter файлов, а также многие другие функции перечисленные выше. Поскольку `fastpages` более гибок и расширяем, его авторы рекомендуют использовать его там, где это возможно.\n",
    "\n",
    "Авторы предполагают, что `fast_template` может быть лучшим вариантом для тех, кто ведет не технические блоги. В этом случае посты можно создавать только с помощью встроенного онлайн-редактора Github, не заморачиваясь с использованием `git`."
   ]
  },
  {
   "cell_type": "markdown",
   "metadata": {},
   "source": [
    "# Плюсы и минусы\n",
    "\n",
    "## Что понравилось\n",
    "- простота создания и размещения блога и публикации контента;\n",
    "- возможность публиковать Jupyter ноутбуки в качестве постов + удобства оформления:\n",
    "    - поддержка отображения интерактивных графиков;\n",
    "    - скрытие/сворачивание кода;\n",
    "    - поддержка отображения GIF-анимации;\n",
    "    - интеграция видео с youtube и тд.\n",
    "- нет зависимости от сторонней платформы по типу Medium;\n",
    "- возможность разместить блог по собственному url;\n",
    "- параметр `badges` в метаинформации к посту позволяет прикрепить ссылки на `GitHub`, `Binder`, `Google Colab`, что позволяет сразу перейти от поста к коду и его исполнению;\n",
    "- комментарии для блога из коробки;\n",
    "- возможность прикрепить пост на конкретуню позицию на общей странице с помощью `sticky_rank`, смотреть [тут](#Возможности-форматирования-постов);\n",
    "- отсутствие сторонней рекламы;\n",
    "\n",
    "## Что не понравилось или вызывало вопросы\n",
    "- непонятно, как сделать структурированный блог с вложенностью:\n",
    "    - возможное решение [permalinks](https://jekyllrb.com/docs/permalinks/) + есть такой TODO [мердж реквест]();\n",
    "    - структура нужна для объединения нескольких постов общей темой;\n",
    "    - хочется структуру, чтобы в одной директорий хранить все, что связанно с постом (данные, изображения для ноутбуков) в одной папке, а не искать их в куче общих файлов и не городить какую-то структуру в этих общих для всех постов папках.\n",
    "- нет WYSIWYG (What You See Is What You Get):\n",
    "    - `Jekyll` его и не подразумевает из коробки;\n",
    "    - возможен [локальный запуск](https://github.com/fastai/fastpages#running-the-blog-on-your-local-machine) блога;\n",
    "- в `Jekyll` в заголовке и описании поста не поддерживаются обратные кавычки, квадратные скобки и тд.\n",
    "- `Jekyll` подразумевает использование `git` для публикации постов;\n",
    "- целесообразность хранения Jupyter ноутбуков в репозитории под вопросом;\n",
    "- непонятно, как привязать spell checker для Jupyter ноутбуков."
   ]
  },
  {
   "cell_type": "markdown",
   "metadata": {},
   "source": [
    "# Резюме\n",
    "Команда fast.ai предложили DS сообществу интересный и достаточно функциональный инструмент для ведения блога, автору которого остается думать только о том, какой контент публиковать.\n",
    "\n",
    "Сложность использования практически минимальная, нужны базовые знания `git`, разметки Markdown и Jupyter Notebook. И никаких проблем с тем, как и где хостить и деплоить сам блог.\n",
    "\n",
    "Конечно, есть определенные пожелания по поводу функционала этого движка, для этого можно участвовать в развитии проекта, находя баги или предлогая те или иные улучшения. В последнем случае даже `pull request` не обязателен, порой хватает текстового описание тех или иных желаний пользователей.\n",
    "\n",
    "В заключение хочу сказать, что сам пользуюсь и всем советую."
   ]
  },
  {
   "cell_type": "markdown",
   "metadata": {},
   "source": [
    "# DS/ML/AI блоги\n",
    "- [Пример блога](https://drscotthawley.github.io/devblog3/) на `fastpages` by Scott H. Hawley;\n",
    "- [Анализ малых данных](https://dyakonov.org/) блог Александра Дьяконова;\n",
    "- Andrej Karpathy [github.io](http://karpathy.github.io/), [medium](https://medium.com/@karpathy);\n",
    "- [Machine Learning Mastery](https://machinelearningmastery.com/blog/) by Jason Brownlee;\n",
    "\n",
    "## Блоги компаний\n",
    "- [Fast.ai](https://www.fast.ai/) + [fastpages blog](https://fastpages.fast.ai/);\n",
    "- [Airbnb](https://medium.com/airbnb-engineering/ai/home);\n",
    "- [Uber](https://eng.uber.com/category/articles/ai/);\n",
    "- [OpenAI](https://openai.com/blog/);\n",
    "- [DeepMind](https://deepmind.com/blog);\n",
    "- [Nvidia](https://blogs.nvidia.com/blog/category/deep-learning/) + [AI podcast](https://blogs.nvidia.com/ai-podcast/);\n",
    "- Microsoft [AI blog](https://blogs.microsoft.com/ai/) + [ML devblogs](https://devblogs.microsoft.com/cse/tag/,machine-learning-ml/)"
   ]
  },
  {
   "cell_type": "markdown",
   "metadata": {},
   "source": [
    "# Полезные ссылки\n",
    "- [Репозиторий](https://github.com/fastai/fastpages#setup-instructions) проекта `fastpages`;\n",
    "- [Introducing fastpages](https://fastpages.fast.ai/fastpages/jupyter/2020/02/21/introducing-fastpages.html);\n",
    "- [Туториал](https://fastpages.fast.ai/jupyter/2020/02/20/test.html) с примерами того, что можно сделать в `.ipynb` посте;\n",
    "- [Репозиторий](https://github.com/fastai/fast_template/) проекта `fast_template` + [статья от fast.ai](https://www.fast.ai/2020/01/16/fast_template/);\n",
    "- [Домашняя страница](https://nbdev.fast.ai/index.html) проекта `nbdev` + [репозиторий](https://github.com/fastai/nbdev) + [форум](https://forums.fast.ai/c/fastai-users/nbdev/);\n",
    "- Достаточно широкий [обзор](https://habr.com/ru/company/ruvds/blog/501012/) движков для блога;\n",
    "- Еще блоги \\[[1](https://medium.com/datadriveninvestor/best-ai-ml-data-science-blogs-to-follow-in-2019-c3598032e3b8), [2](https://www.springboard.com/blog/machine-learning-blog/)\\];"
   ]
  },
  {
   "cell_type": "code",
   "execution_count": null,
   "metadata": {},
   "outputs": [],
   "source": []
  }
 ],
 "metadata": {
  "kernelspec": {
   "display_name": "Python 3",
   "language": "python",
   "name": "python3"
  },
  "language_info": {
   "codemirror_mode": {
    "name": "ipython",
    "version": 3
   },
   "file_extension": ".py",
   "mimetype": "text/x-python",
   "name": "python",
   "nbconvert_exporter": "python",
   "pygments_lexer": "ipython3",
   "version": "3.8.1"
  },
  "toc": {
   "base_numbering": 1,
   "nav_menu": {},
   "number_sections": false,
   "sideBar": true,
   "skip_h1_title": false,
   "title_cell": "Table of Contents",
   "title_sidebar": "Contents",
   "toc_cell": false,
   "toc_position": {
    "height": "calc(100% - 180px)",
    "left": "10px",
    "top": "150px",
    "width": "401.6px"
   },
   "toc_section_display": true,
   "toc_window_display": false
  }
 },
 "nbformat": 4,
 "nbformat_minor": 2
}